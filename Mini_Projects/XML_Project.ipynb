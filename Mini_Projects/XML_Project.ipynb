{
 "cells": [
  {
   "cell_type": "code",
   "execution_count": 91,
   "metadata": {
    "collapsed": false
   },
   "outputs": [],
   "source": [
    "import pandas as pd\n",
    "import numpy as np"
   ]
  },
  {
   "cell_type": "code",
   "execution_count": 5,
   "metadata": {
    "collapsed": true
   },
   "outputs": [],
   "source": [
    "from xml.etree import ElementTree as ET"
   ]
  },
  {
   "cell_type": "code",
   "execution_count": 6,
   "metadata": {
    "collapsed": false
   },
   "outputs": [],
   "source": [
    "doc = ET.parse('./data/mondial_database.xml')"
   ]
  },
  {
   "cell_type": "code",
   "execution_count": 90,
   "metadata": {
    "collapsed": true
   },
   "outputs": [],
   "source": [
    "#Read XML File\n",
    "document = ET.parse('./data/mondial_database.xml')"
   ]
  },
  {
   "cell_type": "markdown",
   "metadata": {},
   "source": [
    "# <b>1.) Find 10 countries with the lowest infant mortality rates</b> "
   ]
  },
  {
   "cell_type": "code",
   "execution_count": 45,
   "metadata": {
    "collapsed": false
   },
   "outputs": [
    {
     "data": {
      "text/html": [
       "<div>\n",
       "<table border=\"1\" class=\"dataframe\">\n",
       "  <thead>\n",
       "    <tr style=\"text-align: right;\">\n",
       "      <th></th>\n",
       "      <th>Infant_Mortality_Rate</th>\n",
       "    </tr>\n",
       "  </thead>\n",
       "  <tbody>\n",
       "    <tr>\n",
       "      <th>Monaco</th>\n",
       "      <td>1.81</td>\n",
       "    </tr>\n",
       "    <tr>\n",
       "      <th>Japan</th>\n",
       "      <td>2.13</td>\n",
       "    </tr>\n",
       "    <tr>\n",
       "      <th>Bermuda</th>\n",
       "      <td>2.48</td>\n",
       "    </tr>\n",
       "    <tr>\n",
       "      <th>Norway</th>\n",
       "      <td>2.48</td>\n",
       "    </tr>\n",
       "    <tr>\n",
       "      <th>Singapore</th>\n",
       "      <td>2.53</td>\n",
       "    </tr>\n",
       "    <tr>\n",
       "      <th>Sweden</th>\n",
       "      <td>2.60</td>\n",
       "    </tr>\n",
       "    <tr>\n",
       "      <th>Czech Republic</th>\n",
       "      <td>2.63</td>\n",
       "    </tr>\n",
       "    <tr>\n",
       "      <th>Hong Kong</th>\n",
       "      <td>2.73</td>\n",
       "    </tr>\n",
       "    <tr>\n",
       "      <th>Macao</th>\n",
       "      <td>3.13</td>\n",
       "    </tr>\n",
       "    <tr>\n",
       "      <th>Iceland</th>\n",
       "      <td>3.15</td>\n",
       "    </tr>\n",
       "  </tbody>\n",
       "</table>\n",
       "</div>"
      ],
      "text/plain": [
       "                Infant_Mortality_Rate\n",
       "Monaco                           1.81\n",
       "Japan                            2.13\n",
       "Bermuda                          2.48\n",
       "Norway                           2.48\n",
       "Singapore                        2.53\n",
       "Sweden                           2.60\n",
       "Czech Republic                   2.63\n",
       "Hong Kong                        2.73\n",
       "Macao                            3.13\n",
       "Iceland                          3.15"
      ]
     },
     "execution_count": 45,
     "metadata": {},
     "output_type": "execute_result"
    }
   ],
   "source": [
    "# Set blank dictionary\n",
    "country_dict = {}\n",
    "\n",
    "# Loop to find Country name and Infant Mortality rate\n",
    "for element in document.iterfind('country'):\n",
    "    country = element.find('name')\n",
    "    infant = element.find('infant_mortality')\n",
    "\n",
    "# Discard if there is no Country Name or Infant Mortality rate\n",
    "    if (country) != None:\n",
    "        if (infant) != None:\n",
    "# Set Key as Country name and Value as Infant Mortality Rate\n",
    "            country_dict[country.text] = float(infant.text)\n",
    "        else:\n",
    "            country_dict[country.text] = np.NaN\n",
    "\n",
    "# Convert to data frame from dictionary\n",
    "country_df = pd.DataFrame.from_dict(country_dict, orient='index')\n",
    "\n",
    "# Set Column to Infant Mortality Rate\n",
    "country_df.columns = ['Infant_Mortality_Rate']\n",
    "country_df.sort_values(by='Infant_Mortality_Rate', ascending=True).head(10)"
   ]
  },
  {
   "cell_type": "markdown",
   "metadata": {},
   "source": [
    "# <b>2.) Find the 10 cities with the largest population</b>"
   ]
  },
  {
   "cell_type": "code",
   "execution_count": 86,
   "metadata": {
    "collapsed": false
   },
   "outputs": [
    {
     "data": {
      "text/html": [
       "<div>\n",
       "<table border=\"1\" class=\"dataframe\">\n",
       "  <thead>\n",
       "    <tr style=\"text-align: right;\">\n",
       "      <th></th>\n",
       "      <th>Country</th>\n",
       "      <th>City</th>\n",
       "      <th>Year</th>\n",
       "      <th>Population</th>\n",
       "    </tr>\n",
       "  </thead>\n",
       "  <tbody>\n",
       "    <tr>\n",
       "      <th>1341</th>\n",
       "      <td>China</td>\n",
       "      <td>Shanghai</td>\n",
       "      <td>2010</td>\n",
       "      <td>22315474</td>\n",
       "    </tr>\n",
       "    <tr>\n",
       "      <th>771</th>\n",
       "      <td>Turkey</td>\n",
       "      <td>Istanbul</td>\n",
       "      <td>2012</td>\n",
       "      <td>13710512</td>\n",
       "    </tr>\n",
       "    <tr>\n",
       "      <th>1527</th>\n",
       "      <td>India</td>\n",
       "      <td>Mumbai</td>\n",
       "      <td>2011</td>\n",
       "      <td>12442373</td>\n",
       "    </tr>\n",
       "    <tr>\n",
       "      <th>479</th>\n",
       "      <td>Russia</td>\n",
       "      <td>Moskva</td>\n",
       "      <td>2013</td>\n",
       "      <td>11979529</td>\n",
       "    </tr>\n",
       "    <tr>\n",
       "      <th>1340</th>\n",
       "      <td>China</td>\n",
       "      <td>Beijing</td>\n",
       "      <td>2010</td>\n",
       "      <td>11716620</td>\n",
       "    </tr>\n",
       "    <tr>\n",
       "      <th>2810</th>\n",
       "      <td>Brazil</td>\n",
       "      <td>São Paulo</td>\n",
       "      <td>2010</td>\n",
       "      <td>11152344</td>\n",
       "    </tr>\n",
       "    <tr>\n",
       "      <th>1342</th>\n",
       "      <td>China</td>\n",
       "      <td>Tianjin</td>\n",
       "      <td>2010</td>\n",
       "      <td>11090314</td>\n",
       "    </tr>\n",
       "    <tr>\n",
       "      <th>1064</th>\n",
       "      <td>China</td>\n",
       "      <td>Guangzhou</td>\n",
       "      <td>2010</td>\n",
       "      <td>11071424</td>\n",
       "    </tr>\n",
       "    <tr>\n",
       "      <th>1582</th>\n",
       "      <td>India</td>\n",
       "      <td>Delhi</td>\n",
       "      <td>2011</td>\n",
       "      <td>11034555</td>\n",
       "    </tr>\n",
       "    <tr>\n",
       "      <th>1067</th>\n",
       "      <td>China</td>\n",
       "      <td>Shenzhen</td>\n",
       "      <td>2010</td>\n",
       "      <td>10358381</td>\n",
       "    </tr>\n",
       "  </tbody>\n",
       "</table>\n",
       "</div>"
      ],
      "text/plain": [
       "     Country       City  Year  Population\n",
       "1341   China   Shanghai  2010    22315474\n",
       "771   Turkey   Istanbul  2012    13710512\n",
       "1527   India     Mumbai  2011    12442373\n",
       "479   Russia     Moskva  2013    11979529\n",
       "1340   China    Beijing  2010    11716620\n",
       "2810  Brazil  São Paulo  2010    11152344\n",
       "1342   China    Tianjin  2010    11090314\n",
       "1064   China  Guangzhou  2010    11071424\n",
       "1582   India      Delhi  2011    11034555\n",
       "1067   China   Shenzhen  2010    10358381"
      ]
     },
     "execution_count": 86,
     "metadata": {},
     "output_type": "execute_result"
    }
   ],
   "source": [
    "# Create blank list for dataframe\n",
    "list_for_df = []\n",
    "\n",
    "# Loop to find city names and provinces\n",
    "for country in document.iterfind('country'):\n",
    "    ctry_cities = country.findall('city')\n",
    "    provinces = country.findall('province')\n",
    "\n",
    "# Some countries have province populations; this loop combines them\n",
    "    for province in provinces:\n",
    "        ctry_cities += province.findall('city')\n",
    "\n",
    "# Loops for city name and last population entry\n",
    "    for city in ctry_cities:\n",
    "        city_name = city.find('name').text\n",
    "        population = city.find('.//population[last()]')\n",
    "# Skips popluation count if node is empty\n",
    "        if population != None:\n",
    "            city_pop = int(population.text)\n",
    "# Gets the year that the population count is from\n",
    "            recent_year = population.get('year')\n",
    "        recent_pop = (country.find('name').text,\n",
    "                      city_name, recent_year, city_pop)\n",
    "        list_for_df.append(recent_pop)\n",
    "\n",
    "# Creates dataframe\n",
    "labels = ['Country', 'City', 'Year', 'Population']\n",
    "city_df = pd.DataFrame.from_records(list_for_df, columns=labels)\n",
    "city_df.sort_values('Population', ascending=False).head(10)"
   ]
  },
  {
   "cell_type": "markdown",
   "metadata": {},
   "source": [
    "# <b>3.) Find the 10 largest ethnic groups in the world </b> "
   ]
  },
  {
   "cell_type": "code",
   "execution_count": 12,
   "metadata": {
    "collapsed": false
   },
   "outputs": [],
   "source": [
    "# Set blank dictionary\n",
    "country_pop = {}\n",
    "\n",
    "# Loops to find country name and recent population count\n",
    "for element in document.iterfind('country'):\n",
    "    country = element.find('name')\n",
    "    population = element.find('.//population[last()]')\n",
    "\n",
    "# Creates dictionary with Country as Key and Population count as Value\n",
    "    if (country) != None:\n",
    "        if (population) != None:\n",
    "            country_pop[country.text] = int(population.text)\n",
    "    else:\n",
    "        country_pop[country.text] = np.NaN\n",
    "\n",
    "# Creates dataframe\n",
    "ctry_df = pd.DataFrame.from_dict(country_pop, orient='index')\n",
    "ctry_df.reset_index(drop=False, inplace=True)\n",
    "ctry_df.columns = ['Country', 'Population']"
   ]
  },
  {
   "cell_type": "code",
   "execution_count": 27,
   "metadata": {
    "collapsed": false
   },
   "outputs": [
    {
     "data": {
      "text/html": [
       "<div>\n",
       "<table border=\"1\" class=\"dataframe\">\n",
       "  <thead>\n",
       "    <tr style=\"text-align: right;\">\n",
       "      <th></th>\n",
       "      <th>Country</th>\n",
       "      <th>Ethnicity</th>\n",
       "      <th>Percentage</th>\n",
       "      <th>Population</th>\n",
       "    </tr>\n",
       "  </thead>\n",
       "  <tbody>\n",
       "    <tr>\n",
       "      <th>0</th>\n",
       "      <td>Albania</td>\n",
       "      <td>Albanian</td>\n",
       "      <td>95</td>\n",
       "      <td>2800138</td>\n",
       "    </tr>\n",
       "    <tr>\n",
       "      <th>1</th>\n",
       "      <td>Albania</td>\n",
       "      <td>Greek</td>\n",
       "      <td>3</td>\n",
       "      <td>2800138</td>\n",
       "    </tr>\n",
       "    <tr>\n",
       "      <th>2</th>\n",
       "      <td>Greece</td>\n",
       "      <td>Greek</td>\n",
       "      <td>93</td>\n",
       "      <td>10816286</td>\n",
       "    </tr>\n",
       "    <tr>\n",
       "      <th>3</th>\n",
       "      <td>Macedonia</td>\n",
       "      <td>Macedonian</td>\n",
       "      <td>64.2</td>\n",
       "      <td>2059794</td>\n",
       "    </tr>\n",
       "    <tr>\n",
       "      <th>4</th>\n",
       "      <td>Macedonia</td>\n",
       "      <td>Albanian</td>\n",
       "      <td>25.2</td>\n",
       "      <td>2059794</td>\n",
       "    </tr>\n",
       "  </tbody>\n",
       "</table>\n",
       "</div>"
      ],
      "text/plain": [
       "     Country   Ethnicity Percentage  Population\n",
       "0    Albania    Albanian         95     2800138\n",
       "1    Albania       Greek          3     2800138\n",
       "2     Greece       Greek         93    10816286\n",
       "3  Macedonia  Macedonian       64.2     2059794\n",
       "4  Macedonia    Albanian       25.2     2059794"
      ]
     },
     "execution_count": 27,
     "metadata": {},
     "output_type": "execute_result"
    }
   ],
   "source": [
    "# Creates blank list to hold ethnicity percentages\n",
    "ethnicity = []\n",
    "ethnicity_labels = ['Country', 'Ethnicity', 'Percentage']\n",
    "\n",
    "# Loops for ethnicgroup percentages and adds them to list\n",
    "for country in document.iterfind('country'):\n",
    "    ctry = country.find('name').text\n",
    "\n",
    "    for ethnic in country.iterfind('ethnicgroup'):\n",
    "        ethnic_name = ethnic.text\n",
    "        ethnic_pct = ethnic.attrib['percentage']\n",
    "        ethnicity.append([ctry, ethnic_name, ethnic_pct])\n",
    "\n",
    "# Creates data frame from list and merges it with country popluation dataframe\n",
    "ethnicity_df = pd.DataFrame(ethnicity, columns=ethnicity_labels)\n",
    "ethnicity_df = ethnicity_df.merge(\n",
    "    ctry_df[['Country', 'Population']], on='Country')\n",
    "ethnicity_df.head()"
   ]
  },
  {
   "cell_type": "code",
   "execution_count": 40,
   "metadata": {
    "collapsed": false
   },
   "outputs": [
    {
     "data": {
      "text/html": [
       "<div>\n",
       "<table border=\"1\" class=\"dataframe\">\n",
       "  <thead>\n",
       "    <tr style=\"text-align: right;\">\n",
       "      <th></th>\n",
       "      <th>Country</th>\n",
       "      <th>Ethnicity</th>\n",
       "      <th>Percentage</th>\n",
       "      <th>Population</th>\n",
       "      <th>Fractions</th>\n",
       "    </tr>\n",
       "  </thead>\n",
       "  <tbody>\n",
       "    <tr>\n",
       "      <th>0</th>\n",
       "      <td>Albania</td>\n",
       "      <td>Albanian</td>\n",
       "      <td>95</td>\n",
       "      <td>2800138</td>\n",
       "      <td>2.660131e+06</td>\n",
       "    </tr>\n",
       "    <tr>\n",
       "      <th>1</th>\n",
       "      <td>Albania</td>\n",
       "      <td>Greek</td>\n",
       "      <td>3</td>\n",
       "      <td>2800138</td>\n",
       "      <td>8.400414e+04</td>\n",
       "    </tr>\n",
       "    <tr>\n",
       "      <th>2</th>\n",
       "      <td>Greece</td>\n",
       "      <td>Greek</td>\n",
       "      <td>93</td>\n",
       "      <td>10816286</td>\n",
       "      <td>1.005915e+07</td>\n",
       "    </tr>\n",
       "    <tr>\n",
       "      <th>3</th>\n",
       "      <td>Macedonia</td>\n",
       "      <td>Macedonian</td>\n",
       "      <td>64.2</td>\n",
       "      <td>2059794</td>\n",
       "      <td>1.322388e+06</td>\n",
       "    </tr>\n",
       "    <tr>\n",
       "      <th>4</th>\n",
       "      <td>Macedonia</td>\n",
       "      <td>Albanian</td>\n",
       "      <td>25.2</td>\n",
       "      <td>2059794</td>\n",
       "      <td>5.190681e+05</td>\n",
       "    </tr>\n",
       "  </tbody>\n",
       "</table>\n",
       "</div>"
      ],
      "text/plain": [
       "     Country   Ethnicity Percentage  Population     Fractions\n",
       "0    Albania    Albanian         95     2800138  2.660131e+06\n",
       "1    Albania       Greek          3     2800138  8.400414e+04\n",
       "2     Greece       Greek         93    10816286  1.005915e+07\n",
       "3  Macedonia  Macedonian       64.2     2059794  1.322388e+06\n",
       "4  Macedonia    Albanian       25.2     2059794  5.190681e+05"
      ]
     },
     "execution_count": 40,
     "metadata": {},
     "output_type": "execute_result"
    }
   ],
   "source": [
    "# Creates a column with Global percentage of ethnicities by dividing by total population\n",
    "ethnicity_df['Fractions'] = (ethnicity_df['Percentage'].astype(\n",
    "    float) / 100) * ethnicity_df['Population']\n",
    "ethnicity_df.head()"
   ]
  },
  {
   "cell_type": "code",
   "execution_count": 89,
   "metadata": {
    "collapsed": false
   },
   "outputs": [
    {
     "data": {
      "text/html": [
       "<div>\n",
       "<table border=\"1\" class=\"dataframe\">\n",
       "  <thead>\n",
       "    <tr style=\"text-align: right;\">\n",
       "      <th></th>\n",
       "      <th>Population</th>\n",
       "      <th>Fractions</th>\n",
       "    </tr>\n",
       "    <tr>\n",
       "      <th>Ethnicity</th>\n",
       "      <th></th>\n",
       "      <th></th>\n",
       "    </tr>\n",
       "  </thead>\n",
       "  <tbody>\n",
       "    <tr>\n",
       "      <th>Han Chinese</th>\n",
       "      <td>1360720000</td>\n",
       "      <td>1.245059e+09</td>\n",
       "    </tr>\n",
       "    <tr>\n",
       "      <th>Indo-Aryan</th>\n",
       "      <td>1210854977</td>\n",
       "      <td>8.718156e+08</td>\n",
       "    </tr>\n",
       "    <tr>\n",
       "      <th>European</th>\n",
       "      <td>1157295639</td>\n",
       "      <td>4.948722e+08</td>\n",
       "    </tr>\n",
       "    <tr>\n",
       "      <th>African</th>\n",
       "      <td>975352746</td>\n",
       "      <td>3.183251e+08</td>\n",
       "    </tr>\n",
       "    <tr>\n",
       "      <th>Dravidian</th>\n",
       "      <td>1210854977</td>\n",
       "      <td>3.027137e+08</td>\n",
       "    </tr>\n",
       "    <tr>\n",
       "      <th>Mestizo</th>\n",
       "      <td>279743964</td>\n",
       "      <td>1.577344e+08</td>\n",
       "    </tr>\n",
       "    <tr>\n",
       "      <th>Bengali</th>\n",
       "      <td>149772364</td>\n",
       "      <td>1.467769e+08</td>\n",
       "    </tr>\n",
       "    <tr>\n",
       "      <th>Russian</th>\n",
       "      <td>322438406</td>\n",
       "      <td>1.318570e+08</td>\n",
       "    </tr>\n",
       "    <tr>\n",
       "      <th>Japanese</th>\n",
       "      <td>127298000</td>\n",
       "      <td>1.265342e+08</td>\n",
       "    </tr>\n",
       "    <tr>\n",
       "      <th>Malay</th>\n",
       "      <td>377500275</td>\n",
       "      <td>1.219936e+08</td>\n",
       "    </tr>\n",
       "  </tbody>\n",
       "</table>\n",
       "</div>"
      ],
      "text/plain": [
       "             Population     Fractions\n",
       "Ethnicity                            \n",
       "Han Chinese  1360720000  1.245059e+09\n",
       "Indo-Aryan   1210854977  8.718156e+08\n",
       "European     1157295639  4.948722e+08\n",
       "African       975352746  3.183251e+08\n",
       "Dravidian    1210854977  3.027137e+08\n",
       "Mestizo       279743964  1.577344e+08\n",
       "Bengali       149772364  1.467769e+08\n",
       "Russian       322438406  1.318570e+08\n",
       "Japanese      127298000  1.265342e+08\n",
       "Malay         377500275  1.219936e+08"
      ]
     },
     "execution_count": 89,
     "metadata": {},
     "output_type": "execute_result"
    }
   ],
   "source": [
    "#Groups by ethnicity to display top 10\n",
    "eth_group_df = ethnicity_df.groupby('Ethnicity').sum()\n",
    "eth_group_df.sort_values(by='Fractions', ascending=False, inplace=True)\n",
    "eth_group_df.head(10)"
   ]
  },
  {
   "cell_type": "markdown",
   "metadata": {},
   "source": [
    "# <b>4.) Name and country of:\n",
    "###    a) Longest river\n",
    "###    b) Largest lake and\n",
    "###    c) Airport at highest elevation</b> "
   ]
  },
  {
   "cell_type": "code",
   "execution_count": 16,
   "metadata": {
    "collapsed": false
   },
   "outputs": [],
   "source": [
    "# Creates a blank dictionary\n",
    "ctry_dict = {}\n",
    "\n",
    "# Fills dictionary with country code ('car code') and country name\n",
    "for code in document.iterfind('country'):\n",
    "    ctry_dict[code.attrib['car_code']] = code.find('name').text"
   ]
  },
  {
   "cell_type": "code",
   "execution_count": 29,
   "metadata": {
    "collapsed": false
   },
   "outputs": [
    {
     "data": {
      "text/html": [
       "<div>\n",
       "<table border=\"1\" class=\"dataframe\">\n",
       "  <thead>\n",
       "    <tr style=\"text-align: right;\">\n",
       "      <th></th>\n",
       "      <th>Country_Code</th>\n",
       "      <th>Country</th>\n",
       "    </tr>\n",
       "  </thead>\n",
       "  <tbody>\n",
       "    <tr>\n",
       "      <th>0</th>\n",
       "      <td>AL</td>\n",
       "      <td>Albania</td>\n",
       "    </tr>\n",
       "    <tr>\n",
       "      <th>1</th>\n",
       "      <td>GR</td>\n",
       "      <td>Greece</td>\n",
       "    </tr>\n",
       "    <tr>\n",
       "      <th>2</th>\n",
       "      <td>MK</td>\n",
       "      <td>Macedonia</td>\n",
       "    </tr>\n",
       "    <tr>\n",
       "      <th>3</th>\n",
       "      <td>SRB</td>\n",
       "      <td>Serbia</td>\n",
       "    </tr>\n",
       "    <tr>\n",
       "      <th>4</th>\n",
       "      <td>MNE</td>\n",
       "      <td>Montenegro</td>\n",
       "    </tr>\n",
       "  </tbody>\n",
       "</table>\n",
       "</div>"
      ],
      "text/plain": [
       "  Country_Code     Country\n",
       "0           AL     Albania\n",
       "1           GR      Greece\n",
       "2           MK   Macedonia\n",
       "3          SRB      Serbia\n",
       "4          MNE  Montenegro"
      ]
     },
     "execution_count": 29,
     "metadata": {},
     "output_type": "execute_result"
    }
   ],
   "source": [
    "# Creates dataframe from dictionary\n",
    "ctry_codes_df = pd.DataFrame.from_dict(ctry_dict, orient='index')\n",
    "ctry_codes_df.reset_index(drop=False, inplace=True)\n",
    "ctry_codes_df.columns = ['Country_Code', 'Country']\n",
    "ctry_codes_df.head()"
   ]
  },
  {
   "cell_type": "code",
   "execution_count": 30,
   "metadata": {
    "collapsed": false
   },
   "outputs": [],
   "source": [
    "# Creates blank list\n",
    "river_list = []\n",
    "\n",
    "# Loops for rivers' names, lengths, and country codes\n",
    "for rivers in document.iterfind('river'):\n",
    "    river_name = rivers.find('name').text\n",
    "    river_length_element = rivers.find('length')\n",
    "    if river_length_element != None:\n",
    "        river_length = river_length_element.text\n",
    "# Rivers run though multiple countries; codes must be split after all are selected\n",
    "        for river_code in rivers.attrib['country'].split():\n",
    "            river_ctry_code = ctry_dict[river_code]\n",
    "    river_list.append([river_ctry_code, river_code,\n",
    "                       river_name, float(river_length)])\n",
    "# print(river_list)"
   ]
  },
  {
   "cell_type": "code",
   "execution_count": 31,
   "metadata": {
    "collapsed": false
   },
   "outputs": [
    {
     "data": {
      "text/html": [
       "<div>\n",
       "<table border=\"1\" class=\"dataframe\">\n",
       "  <thead>\n",
       "    <tr style=\"text-align: right;\">\n",
       "      <th></th>\n",
       "      <th>Country</th>\n",
       "      <th>Code</th>\n",
       "      <th>River_Name</th>\n",
       "      <th>River_Length</th>\n",
       "    </tr>\n",
       "  </thead>\n",
       "  <tbody>\n",
       "    <tr>\n",
       "      <th>0</th>\n",
       "      <td>Iceland</td>\n",
       "      <td>IS</td>\n",
       "      <td>Thjorsa</td>\n",
       "      <td>230.0</td>\n",
       "    </tr>\n",
       "    <tr>\n",
       "      <th>1</th>\n",
       "      <td>Iceland</td>\n",
       "      <td>IS</td>\n",
       "      <td>Joekulsa a Fjoellum</td>\n",
       "      <td>206.0</td>\n",
       "    </tr>\n",
       "    <tr>\n",
       "      <th>2</th>\n",
       "      <td>Norway</td>\n",
       "      <td>N</td>\n",
       "      <td>Glomma</td>\n",
       "      <td>604.0</td>\n",
       "    </tr>\n",
       "    <tr>\n",
       "      <th>3</th>\n",
       "      <td>Norway</td>\n",
       "      <td>N</td>\n",
       "      <td>Lagen</td>\n",
       "      <td>322.0</td>\n",
       "    </tr>\n",
       "    <tr>\n",
       "      <th>4</th>\n",
       "      <td>Sweden</td>\n",
       "      <td>S</td>\n",
       "      <td>Goetaaelv</td>\n",
       "      <td>93.0</td>\n",
       "    </tr>\n",
       "  </tbody>\n",
       "</table>\n",
       "</div>"
      ],
      "text/plain": [
       "   Country Code           River_Name  River_Length\n",
       "0  Iceland   IS              Thjorsa         230.0\n",
       "1  Iceland   IS  Joekulsa a Fjoellum         206.0\n",
       "2   Norway    N               Glomma         604.0\n",
       "3   Norway    N                Lagen         322.0\n",
       "4   Sweden    S            Goetaaelv          93.0"
      ]
     },
     "execution_count": 31,
     "metadata": {},
     "output_type": "execute_result"
    }
   ],
   "source": [
    "# Creates dataframe from list\n",
    "Country_River_Labels = ['Country', 'Code', 'River_Name', 'River_Length']\n",
    "rivers_df = pd.DataFrame.from_records(river_list, columns=Country_River_Labels)\n",
    "rivers_df.head()"
   ]
  },
  {
   "cell_type": "code",
   "execution_count": 20,
   "metadata": {
    "collapsed": false
   },
   "outputs": [],
   "source": [
    "# Creates blank list\n",
    "lake_list = []\n",
    "#Loops for lakes' names, areas, and country codes\n",
    "for lakes in document.iterfind('lake'):\n",
    "    lake_name = lakes.find('name').text\n",
    "    lake_area_element = lakes.find('area')\n",
    "    if lake_area_element != None:\n",
    "        lake_area = lake_area_element.text\n",
    "        for lake_code in lakes.attrib['country'].split():\n",
    "            lake_ctry_code = ctry_dict[lake_code]\n",
    "    lake_list.append([lake_ctry_code, lake_code, lake_name, float(lake_area)])\n",
    "# print (lake_list)"
   ]
  },
  {
   "cell_type": "code",
   "execution_count": 32,
   "metadata": {
    "collapsed": false
   },
   "outputs": [
    {
     "data": {
      "text/html": [
       "<div>\n",
       "<table border=\"1\" class=\"dataframe\">\n",
       "  <thead>\n",
       "    <tr style=\"text-align: right;\">\n",
       "      <th></th>\n",
       "      <th>Country</th>\n",
       "      <th>Code</th>\n",
       "      <th>Lake_Name</th>\n",
       "      <th>Lake_Area</th>\n",
       "    </tr>\n",
       "  </thead>\n",
       "  <tbody>\n",
       "    <tr>\n",
       "      <th>0</th>\n",
       "      <td>Finland</td>\n",
       "      <td>SF</td>\n",
       "      <td>Inari</td>\n",
       "      <td>1040.0</td>\n",
       "    </tr>\n",
       "    <tr>\n",
       "      <th>1</th>\n",
       "      <td>Finland</td>\n",
       "      <td>SF</td>\n",
       "      <td>Oulujaervi</td>\n",
       "      <td>928.0</td>\n",
       "    </tr>\n",
       "    <tr>\n",
       "      <th>2</th>\n",
       "      <td>Finland</td>\n",
       "      <td>SF</td>\n",
       "      <td>Kallavesi</td>\n",
       "      <td>472.0</td>\n",
       "    </tr>\n",
       "    <tr>\n",
       "      <th>3</th>\n",
       "      <td>Finland</td>\n",
       "      <td>SF</td>\n",
       "      <td>Saimaa</td>\n",
       "      <td>4370.0</td>\n",
       "    </tr>\n",
       "    <tr>\n",
       "      <th>4</th>\n",
       "      <td>Finland</td>\n",
       "      <td>SF</td>\n",
       "      <td>Paeijaenne</td>\n",
       "      <td>1118.0</td>\n",
       "    </tr>\n",
       "  </tbody>\n",
       "</table>\n",
       "</div>"
      ],
      "text/plain": [
       "   Country Code   Lake_Name  Lake_Area\n",
       "0  Finland   SF       Inari     1040.0\n",
       "1  Finland   SF  Oulujaervi      928.0\n",
       "2  Finland   SF   Kallavesi      472.0\n",
       "3  Finland   SF      Saimaa     4370.0\n",
       "4  Finland   SF  Paeijaenne     1118.0"
      ]
     },
     "execution_count": 32,
     "metadata": {},
     "output_type": "execute_result"
    }
   ],
   "source": [
    "# Creates dataframe from list\n",
    "Country_Lake_Labels = ['Country', 'Code', 'Lake_Name', 'Lake_Area']\n",
    "lakes_df = pd.DataFrame.from_records(lake_list, columns=Country_Lake_Labels)\n",
    "lakes_df.head()"
   ]
  },
  {
   "cell_type": "code",
   "execution_count": 22,
   "metadata": {
    "collapsed": false
   },
   "outputs": [],
   "source": [
    "# Creates blank list\n",
    "airport_list = []\n",
    "\n",
    "# Loops for aiports' names, elevations, and country codes\n",
    "for airport in document.iterfind('airport'):\n",
    "    airport_name = airport.find('name').text\n",
    "    airport_elev_element = airport.find('elevation')\n",
    "    if airport_elev_element != None:\n",
    "        airport_elev = airport_elev_element.text\n",
    "        for airport_code in airport.attrib['country'].split():\n",
    "            airport_ctry_code = ctry_dict[airport_code]\n",
    "    airport_list.append([airport_ctry_code, airport_code,\n",
    "                         airport_name, airport_elev])\n",
    "# print (airport_list)"
   ]
  },
  {
   "cell_type": "code",
   "execution_count": 33,
   "metadata": {
    "collapsed": false
   },
   "outputs": [
    {
     "data": {
      "text/html": [
       "<div>\n",
       "<table border=\"1\" class=\"dataframe\">\n",
       "  <thead>\n",
       "    <tr style=\"text-align: right;\">\n",
       "      <th></th>\n",
       "      <th>Country</th>\n",
       "      <th>Code</th>\n",
       "      <th>Airport_Name</th>\n",
       "      <th>Airport_Elev</th>\n",
       "    </tr>\n",
       "  </thead>\n",
       "  <tbody>\n",
       "    <tr>\n",
       "      <th>0</th>\n",
       "      <td>Afghanistan</td>\n",
       "      <td>AFG</td>\n",
       "      <td>Herat</td>\n",
       "      <td>977.0</td>\n",
       "    </tr>\n",
       "    <tr>\n",
       "      <th>1</th>\n",
       "      <td>Afghanistan</td>\n",
       "      <td>AFG</td>\n",
       "      <td>Kabul Intl</td>\n",
       "      <td>1792.0</td>\n",
       "    </tr>\n",
       "    <tr>\n",
       "      <th>2</th>\n",
       "      <td>Albania</td>\n",
       "      <td>AL</td>\n",
       "      <td>Tirana Rinas</td>\n",
       "      <td>38.0</td>\n",
       "    </tr>\n",
       "    <tr>\n",
       "      <th>3</th>\n",
       "      <td>Algeria</td>\n",
       "      <td>DZ</td>\n",
       "      <td>Cheikh Larbi Tebessi</td>\n",
       "      <td>811.0</td>\n",
       "    </tr>\n",
       "    <tr>\n",
       "      <th>4</th>\n",
       "      <td>Algeria</td>\n",
       "      <td>DZ</td>\n",
       "      <td>Batna Airport</td>\n",
       "      <td>822.0</td>\n",
       "    </tr>\n",
       "  </tbody>\n",
       "</table>\n",
       "</div>"
      ],
      "text/plain": [
       "       Country Code          Airport_Name  Airport_Elev\n",
       "0  Afghanistan  AFG                 Herat         977.0\n",
       "1  Afghanistan  AFG            Kabul Intl        1792.0\n",
       "2      Albania   AL          Tirana Rinas          38.0\n",
       "3      Algeria   DZ  Cheikh Larbi Tebessi         811.0\n",
       "4      Algeria   DZ         Batna Airport         822.0"
      ]
     },
     "execution_count": 33,
     "metadata": {},
     "output_type": "execute_result"
    }
   ],
   "source": [
    "# Creates dataframe from list\n",
    "Country_Airport_Labels = ['Country', 'Code', 'Airport_Name', 'Airport_Elev']\n",
    "airport_text_df = pd.DataFrame.from_records(\n",
    "    airport_list, columns=Country_Airport_Labels)\n",
    "airport_df = airport_text_df.apply(pd.to_numeric, errors='ignore')\n",
    "airport_df.head()"
   ]
  },
  {
   "cell_type": "markdown",
   "metadata": {},
   "source": [
    "# <b>4a) Longest river "
   ]
  },
  {
   "cell_type": "code",
   "execution_count": 36,
   "metadata": {
    "collapsed": false
   },
   "outputs": [
    {
     "data": {
      "text/html": [
       "<div>\n",
       "<table border=\"1\" class=\"dataframe\">\n",
       "  <thead>\n",
       "    <tr style=\"text-align: right;\">\n",
       "      <th></th>\n",
       "      <th>Country</th>\n",
       "      <th>Code_x</th>\n",
       "      <th>Airport_Name</th>\n",
       "      <th>Airport_Elev</th>\n",
       "      <th>Code_y</th>\n",
       "      <th>Lake_Name</th>\n",
       "      <th>Lake_Area</th>\n",
       "      <th>Code</th>\n",
       "      <th>River_Name</th>\n",
       "      <th>River_Length</th>\n",
       "    </tr>\n",
       "  </thead>\n",
       "  <tbody>\n",
       "    <tr>\n",
       "      <th>8408</th>\n",
       "      <td>Peru</td>\n",
       "      <td>PE</td>\n",
       "      <td>Padre Aldamiz</td>\n",
       "      <td>201.0</td>\n",
       "      <td>PE</td>\n",
       "      <td>Lake Titicaca</td>\n",
       "      <td>8372.0</td>\n",
       "      <td>PE</td>\n",
       "      <td>Amazonas</td>\n",
       "      <td>6448.0</td>\n",
       "    </tr>\n",
       "  </tbody>\n",
       "</table>\n",
       "</div>"
      ],
      "text/plain": [
       "     Country Code_x   Airport_Name  Airport_Elev Code_y      Lake_Name  \\\n",
       "8408    Peru     PE  Padre Aldamiz         201.0     PE  Lake Titicaca   \n",
       "\n",
       "      Lake_Area Code River_Name  River_Length  \n",
       "8408     8372.0   PE   Amazonas        6448.0  "
      ]
     },
     "execution_count": 36,
     "metadata": {},
     "output_type": "execute_result"
    }
   ],
   "source": [
    "# Combines all three dataframe into one, keeping NaNs\n",
    "ctry_airport_lakes_df = airport_df.merge(lakes_df, on='Country', how='outer')\n",
    "ctry_land_df = ctry_airport_lakes_df.merge(\n",
    "    rivers_df, on='Country', how='outer')\n",
    "\n",
    "# Result for longest River\n",
    "ctry_land_df.sort_values(by='River_Length', ascending=False).head(1)"
   ]
  },
  {
   "cell_type": "markdown",
   "metadata": {},
   "source": [
    "# <b>4b) Largest lake "
   ]
  },
  {
   "cell_type": "code",
   "execution_count": 37,
   "metadata": {
    "collapsed": false
   },
   "outputs": [
    {
     "data": {
      "text/html": [
       "<div>\n",
       "<table border=\"1\" class=\"dataframe\">\n",
       "  <thead>\n",
       "    <tr style=\"text-align: right;\">\n",
       "      <th></th>\n",
       "      <th>Country</th>\n",
       "      <th>Code_x</th>\n",
       "      <th>Airport_Name</th>\n",
       "      <th>Airport_Elev</th>\n",
       "      <th>Code_y</th>\n",
       "      <th>Lake_Name</th>\n",
       "      <th>Lake_Area</th>\n",
       "      <th>Code</th>\n",
       "      <th>River_Name</th>\n",
       "      <th>River_Length</th>\n",
       "    </tr>\n",
       "  </thead>\n",
       "  <tbody>\n",
       "    <tr>\n",
       "      <th>17740</th>\n",
       "      <td>Turkmenistan</td>\n",
       "      <td>TM</td>\n",
       "      <td>Ashgabat</td>\n",
       "      <td>211.0</td>\n",
       "      <td>TM</td>\n",
       "      <td>Caspian Sea</td>\n",
       "      <td>386400.0</td>\n",
       "      <td>NaN</td>\n",
       "      <td>NaN</td>\n",
       "      <td>NaN</td>\n",
       "    </tr>\n",
       "  </tbody>\n",
       "</table>\n",
       "</div>"
      ],
      "text/plain": [
       "            Country Code_x Airport_Name  Airport_Elev Code_y    Lake_Name  \\\n",
       "17740  Turkmenistan     TM     Ashgabat         211.0     TM  Caspian Sea   \n",
       "\n",
       "       Lake_Area Code River_Name  River_Length  \n",
       "17740   386400.0  NaN        NaN           NaN  "
      ]
     },
     "execution_count": 37,
     "metadata": {},
     "output_type": "execute_result"
    }
   ],
   "source": [
    "# Result for longest lake\n",
    "ctry_land_df.sort_values(by='Lake_Area', ascending=False).head(1)"
   ]
  },
  {
   "cell_type": "markdown",
   "metadata": {},
   "source": [
    "# <b>4c) Airport at highest elevation</b> "
   ]
  },
  {
   "cell_type": "code",
   "execution_count": 39,
   "metadata": {
    "collapsed": false
   },
   "outputs": [
    {
     "data": {
      "text/html": [
       "<div>\n",
       "<table border=\"1\" class=\"dataframe\">\n",
       "  <thead>\n",
       "    <tr style=\"text-align: right;\">\n",
       "      <th></th>\n",
       "      <th>Country</th>\n",
       "      <th>Code_x</th>\n",
       "      <th>Airport_Name</th>\n",
       "      <th>Airport_Elev</th>\n",
       "      <th>Code_y</th>\n",
       "      <th>Lake_Name</th>\n",
       "      <th>Lake_Area</th>\n",
       "      <th>Code</th>\n",
       "      <th>River_Name</th>\n",
       "      <th>River_Length</th>\n",
       "    </tr>\n",
       "  </thead>\n",
       "  <tbody>\n",
       "    <tr>\n",
       "      <th>385</th>\n",
       "      <td>Bolivia</td>\n",
       "      <td>BOL</td>\n",
       "      <td>El Alto Intl</td>\n",
       "      <td>4063.0</td>\n",
       "      <td>BOL</td>\n",
       "      <td>Licancabur Crater Lake</td>\n",
       "      <td>0.005</td>\n",
       "      <td>BOL</td>\n",
       "      <td>Rio Madeira</td>\n",
       "      <td>1450.0</td>\n",
       "    </tr>\n",
       "  </tbody>\n",
       "</table>\n",
       "</div>"
      ],
      "text/plain": [
       "     Country Code_x  Airport_Name  Airport_Elev Code_y  \\\n",
       "385  Bolivia    BOL  El Alto Intl        4063.0    BOL   \n",
       "\n",
       "                  Lake_Name  Lake_Area Code   River_Name  River_Length  \n",
       "385  Licancabur Crater Lake      0.005  BOL  Rio Madeira        1450.0  "
      ]
     },
     "execution_count": 39,
     "metadata": {},
     "output_type": "execute_result"
    }
   ],
   "source": [
    "# Result for highest airport\n",
    "ctry_land_df.sort_values(by='Airport_Elev', ascending=False).head(1)"
   ]
  }
 ],
 "metadata": {
  "kernelspec": {
   "display_name": "Python 3",
   "language": "python",
   "name": "python3"
  },
  "language_info": {
   "codemirror_mode": {
    "name": "ipython",
    "version": 3
   },
   "file_extension": ".py",
   "mimetype": "text/x-python",
   "name": "python",
   "nbconvert_exporter": "python",
   "pygments_lexer": "ipython3",
   "version": "3.6.0"
  }
 },
 "nbformat": 4,
 "nbformat_minor": 2
}
